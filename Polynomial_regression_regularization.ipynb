{
  "nbformat": 4,
  "nbformat_minor": 0,
  "metadata": {
    "kernelspec": {
      "display_name": "Python 3",
      "language": "python",
      "name": "python3"
    },
    "language_info": {
      "codemirror_mode": {
        "name": "ipython",
        "version": 3
      },
      "file_extension": ".py",
      "mimetype": "text/x-python",
      "name": "python",
      "nbconvert_exporter": "python",
      "pygments_lexer": "ipython3",
      "version": "3.7.6"
    },
    "colab": {
      "name": "Copy of Copy of Polynomial_regression_regularization.ipynb",
      "provenance": [],
      "collapsed_sections": []
    }
  },
  "cells": [
    {
      "cell_type": "markdown",
      "metadata": {
        "id": "eyjewtSBMA95"
      },
      "source": [
        "# Testing and regularization"
      ]
    },
    {
      "cell_type": "code",
      "metadata": {
        "id": "y_RXtj1eMCb3",
        "colab": {
          "base_uri": "https://localhost:8080/"
        },
        "outputId": "e20dc600-768e-4038-e81e-152c098e5725"
      },
      "source": [
        "!git clone https://github.com/s7s/machine_learning_1.git\n",
        "%cd  machine_learning_1/polynomial_regression"
      ],
      "execution_count": null,
      "outputs": [
        {
          "output_type": "stream",
          "text": [
            "Cloning into 'machine_learning_1'...\n",
            "remote: Enumerating objects: 109, done.\u001b[K\n",
            "remote: Counting objects: 100% (109/109), done.\u001b[K\n",
            "remote: Compressing objects: 100% (79/79), done.\u001b[K\n",
            "remote: Total 109 (delta 42), reused 94 (delta 27), pack-reused 0\u001b[K\n",
            "Receiving objects: 100% (109/109), 33.19 MiB | 22.72 MiB/s, done.\n",
            "Resolving deltas: 100% (42/42), done.\n",
            "/content/machine_learning_1/polynomial_regression\n"
          ],
          "name": "stdout"
        }
      ]
    },
    {
      "cell_type": "code",
      "metadata": {
        "id": "YpX56PtFMA-A"
      },
      "source": [
        "import pandas as pd\n",
        "import numpy as np\n",
        "import random\n",
        "import matplotlib.pyplot as plt\n",
        "random.seed(0)"
      ],
      "execution_count": null,
      "outputs": []
    },
    {
      "cell_type": "markdown",
      "metadata": {
        "id": "WBD0ZY2wMA-B"
      },
      "source": [
        "## Defining our dataset"
      ]
    },
    {
      "cell_type": "code",
      "metadata": {
        "id": "4sDgbZNRMA-C",
        "colab": {
          "base_uri": "https://localhost:8080/",
          "height": 269
        },
        "outputId": "c0e72a22-c40a-4ddc-fafd-3594def5caab"
      },
      "source": [
        "# Our original polynomial is -x^2+x+15\n",
        "coefs = [15,1,-1]\n",
        "\n",
        "def polynomial(coefs, x):\n",
        "    n = len(coefs)\n",
        "    return sum([coefs[i]*x**i for i in range(n)])\n",
        "\n",
        "def draw_polynomial(coefs):\n",
        "    n = len(coefs)\n",
        "    x = np.linspace(-5, 5, 1000)\n",
        "    plt.ylim(-20,20)\n",
        "    plt.plot(x, sum([coefs[i]*x**i for i in range(n)]), linestyle='-', color='black')\n",
        "\n",
        "draw_polynomial(coefs)"
      ],
      "execution_count": null,
      "outputs": [
        {
          "output_type": "display_data",
          "data": {
            "image/png": "[encoded data removed]",
            "text/plain": [
              "<Figure size 432x288 with 1 Axes>"
            ]
          },
          "metadata": {
            "tags": [],
            "needs_background": "light"
          }
        }
      ]
    },
    {
      "cell_type": "code",
      "metadata": {
        "id": "WvGqHRFCMA-E"
      },
      "source": [
        "X = []\n",
        "Y = []\n",
        "for i in range(40):\n",
        "    x = random.uniform(-5,5)\n",
        "    y = polynomial(coefs, x) + random.gauss(0,2)\n",
        "    X.append(x)\n",
        "    Y.append(y)\n",
        "X=np.array(X)\n",
        "Y=np.array(Y)"
      ],
      "execution_count": null,
      "outputs": []
    },
    {
      "cell_type": "code",
      "metadata": {
        "id": "ETQxgGiFMA-E",
        "colab": {
          "base_uri": "https://localhost:8080/",
          "height": 282
        },
        "outputId": "3cee2557-85b5-4349-f625-fa6a9be16bb1"
      },
      "source": [
        "plt.scatter(X, Y)\n",
        "#draw_polynomial(coefs)"
      ],
      "execution_count": null,
      "outputs": [
        {
          "output_type": "execute_result",
          "data": {
            "text/plain": [
              "<matplotlib.collections.PathCollection at 0x7fbf25af4d10>"
            ]
          },
          "metadata": {
            "tags": []
          },
          "execution_count": 5
        },
        {
          "output_type": "display_data",
          "data": {
            "image/png": "[encoded data removed]",
            "text/plain": [
              "<Figure size 432x288 with 1 Axes>"
            ]
          },
          "metadata": {
            "tags": [],
            "needs_background": "light"
          }
        }
      ]
    },
    {
      "cell_type": "markdown",
      "metadata": {
        "id": "wLUfmV9iMA-F"
      },
      "source": [
        "## Training a polynomial regression model"
      ]
    },
    {
      "cell_type": "code",
      "metadata": {
        "id": "xsNmJ6hoGPjb",
        "colab": {
          "base_uri": "https://localhost:8080/"
        },
        "outputId": "d42cb368-1acc-4b57-ee47-bd10869b7157"
      },
      "source": [
        "for datasample in zip(X,Y):\n",
        "    print(datasample)"
      ],
      "execution_count": null,
      "outputs": [
        {
          "output_type": "stream",
          "text": [
            "(3.4442185152504816, 6.685961311021467)\n",
            "(-2.4108324970703663, 4.690236225597948)\n",
            "(0.11274721368608542, 12.205789026637378)\n",
            "(-1.9668727392107255, 11.133217991032268)\n",
            "(-0.23403045847644144, 10.927272159051856)\n",
            "(0.046868558173902564, 12.8584762866286)\n",
            "(-2.1816215560029617, 8.16012255928749)\n",
            "(-2.4949365863755943, 3.5061587527226514)\n",
            "(4.097462559682402, 5.933186396721837)\n",
            "(4.021659504395828, 2.454299054753137)\n",
            "(-1.8985243068066735, 8.956020414039855)\n",
            "(1.8398393191544127, 9.208004401915796)\n",
            "(-0.2785728454728664, 16.36505651355184)\n",
            "(1.1088697344380165, 16.14144978027318)\n",
            "(4.130110532378982, 4.299534274468492)\n",
            "(3.6530992777164, 4.83366913200435)\n",
            "(-2.395076896080406, 7.723543125251446)\n",
            "(-4.8595829983598104, -15.848718674227753)\n",
            "(2.1970468640395415, 9.366124268570305)\n",
            "(1.6815320123185087, 16.070558182542374)\n",
            "(-4.988571806855717, -18.893035332565795)\n",
            "(-2.5608912311286804, 6.043189895391749)\n",
            "(-1.7479563725260991, 11.091071520573042)\n",
            "(0.6751074062067186, 14.272553413210698)\n",
            "(-2.6138407138477984, 9.085321805751548)\n",
            "(-0.5203042856442961, 13.47860807272069)\n",
            "(-4.195541814474646, -7.812998091307244)\n",
            "(4.3283382422690675, 2.748647759010411)\n",
            "(-3.909421540688963, -7.163796336350065)\n",
            "(0.4744091132842376, 14.257854146830486)\n",
            "(3.14466863291336, 3.2664703661537313)\n",
            "(1.0318562796138302, 13.67662422703284)\n",
            "(0.8761706417543635, 12.57404063707232)\n",
            "(-1.1509885402733957, 13.436894195835206)\n",
            "(0.7565101416488851, 14.859288476607356)\n",
            "(-3.132704717444449, 3.3081236367340967)\n",
            "(1.1277317986860673, 13.596584816754236)\n",
            "(-4.1017563880440635, -7.821475002235993)\n",
            "(2.576039219664368, 14.181083579723474)\n",
            "(3.424602231401824, 3.5269925176080537)\n"
          ],
          "name": "stdout"
        }
      ]
    },
    {
      "cell_type": "markdown",
      "metadata": {
        "id": "Pze2ZphQMA-G"
      },
      "source": [
        "### Adding columns to our dataset corresponding to $x^2, x^3, \\ldots, x^{200}$"
      ]
    },
    {
      "cell_type": "code",
      "metadata": {
        "id": "c2XZgASOGfVv"
      },
      "source": [
        "from sklearn.preprocessing import PolynomialFeatures\n",
        "def addPoly(X,polyDegree):\n",
        "    ## TODO ##\n",
        "    #use sklearn (PolynomialFeatures method)\n",
        "    poly = PolynomialFeatures(polyDegree, include_bias=False)\n",
        "    X = poly.fit_transform(X.reshape(-1,1))\n",
        "    return X\n",
        "X_poly=addPoly(X,200)"
      ],
      "execution_count": null,
      "outputs": []
    },
    {
      "cell_type": "code",
      "metadata": {
        "id": "kKXdyM7fGzLC",
        "colab": {
          "base_uri": "https://localhost:8080/"
        },
        "outputId": "ea3103cb-436f-422f-9cc4-253153878798"
      },
      "source": [
        "print(X_poly.shape)\n",
        "print(X_poly[0,:])"
      ],
      "execution_count": null,
      "outputs": [
        {
          "output_type": "stream",
          "text": [
            "(40, 200)\n",
            "[3.44421852e+000 1.18626412e+001 4.08575284e+001 1.40722256e+002\n",
            " 4.84678199e+002 1.66933763e+003 5.74956356e+003 1.98027533e+004\n",
            " 6.82050095e+004 2.34912956e+005 8.09091554e+005 2.78668811e+006\n",
            " 9.59796279e+006 3.30574811e+007 1.13857189e+008 3.92149037e+008\n",
            " 1.35064697e+009 4.65192332e+009 1.60222404e+010 5.51840971e+010\n",
            " 1.90066089e+011 6.54629143e+011 2.25468581e+012 7.76563063e+012\n",
            " 2.67465288e+013 9.21208897e+013 3.17284474e+014 1.09279706e+015\n",
            " 3.76383187e+015 1.29634594e+016 4.46489869e+016 1.53780867e+017\n",
            " 5.29654911e+017 1.82424725e+018 6.28310616e+018 2.16403906e+019\n",
            " 7.45342338e+019 2.56712188e+020 8.84172871e+020 3.04528457e+021\n",
            " 1.04886255e+022 3.61251182e+022 1.24422801e+023 4.28539315e+023\n",
            " 1.47598304e+024 5.08360812e+024 1.75090572e+025 6.03050191e+025\n",
            " 2.07703663e+026 7.15376803e+026 2.46391403e+027 8.48625832e+027\n",
            " 2.92285280e+028 1.00669437e+029 3.46727540e+029 1.19420541e+030\n",
            " 4.11310440e+030 1.41664303e+031 4.87922816e+031 1.68051280e+032\n",
            " 5.78805329e+032 1.99353203e+033 6.86615993e+033 2.36485552e+034\n",
            " 8.14507916e+034 2.80534324e+035 9.66221514e+035 3.32787803e+036\n",
            " 1.14619391e+037 3.94774230e+037 1.35968871e+038 4.68306503e+038\n",
            " 1.61294993e+039 5.55535201e+039 1.91338463e+040 6.59011475e+040\n",
            " 2.26977953e+041 7.81761667e+041 2.69255801e+042 9.27375814e+042\n",
            " 3.19408495e+043 1.10011265e+044 3.78902837e+044 1.30502417e+045\n",
            " 4.49478839e+045 1.54810334e+046 5.33200619e+046 1.83645944e+047\n",
            " 6.32516762e+047 2.17852594e+048 7.50331939e+048 2.58430716e+049\n",
            " 8.90091855e+049 3.06567085e+050 1.05588403e+051 3.63669533e+051\n",
            " 1.25255734e+052 4.31408117e+052 1.48586383e+053 5.11763970e+053\n",
            " 1.76262694e+054 6.07087234e+054 2.09094109e+055 7.20165803e+055\n",
            " 2.48040839e+056 8.54306851e+056 2.94241947e+057 1.01343356e+058\n",
            " 3.49048664e+058 1.20219987e+059 4.14063906e+059 1.42612657e+060\n",
            " 4.91189154e+060 1.69176278e+061 5.82680069e+061 2.00687748e+062\n",
            " 6.91212458e+062 2.38068674e+063 8.19960536e+063 2.82412326e+064\n",
            " 9.72689763e+064 3.35015609e+065 1.15386696e+066 3.97416996e+066\n",
            " 1.36879098e+067 4.71441522e+067 1.62374762e+068 5.59254162e+068\n",
            " 1.92619354e+069 6.63423145e+069 2.28497428e+070 7.86995072e+070\n",
            " 2.71058300e+071 9.33584015e+071 3.21546735e+072 1.10747722e+073\n",
            " 3.81439354e+073 1.31376049e+074 4.52487819e+074 1.55846692e+075\n",
            " 5.36770063e+075 1.84875339e+076 6.36751066e+076 2.19310981e+077\n",
            " 7.55354941e+077 2.60160747e+078 8.96050463e+078 3.08619360e+079\n",
            " 1.06295251e+080 3.66104073e+080 1.26094243e+081 4.34296125e+081\n",
            " 1.49581075e+082 5.15189909e+082 1.77442662e+083 6.11151303e+083\n",
            " 2.10493864e+084 7.24986862e+084 2.49701317e+085 8.60025901e+085\n",
            " 2.96211713e+086 1.02021787e+087 3.51385326e+087 1.21024785e+088\n",
            " 4.16835804e+088 1.43567360e+089 4.94477358e+089 1.70308807e+090\n",
            " 5.86580747e+090 2.02031227e+091 6.95839692e+091 2.39662395e+092\n",
            " 8.25449659e+092 2.84302900e+093 9.79201312e+093 3.37258329e+094\n",
            " 1.16159138e+095 4.00077454e+095 1.37795417e+096 4.74597528e+096\n",
            " 1.63461759e+097 5.62998018e+097 1.93908820e+098 6.67864348e+098\n",
            " 2.30027075e+099 7.92263511e+099 2.72872865e+100 9.39833775e+100\n",
            " 3.23699289e+101 1.11489108e+102 3.83992852e+102 1.32255529e+103\n",
            " 4.55516942e+103 1.56889988e+104 5.40363403e+104 1.86112964e+105\n",
            " 6.41013716e+105 2.20779131e+106 7.60411570e+106 2.61902361e+107]\n"
          ],
          "name": "stdout"
        }
      ]
    },
    {
      "cell_type": "markdown",
      "metadata": {
        "id": "S8uYLISVMA-H"
      },
      "source": [
        "## Splitting data into training and testing"
      ]
    },
    {
      "cell_type": "code",
      "metadata": {
        "id": "fVnfiOyqMNLg"
      },
      "source": [
        "from sklearn.model_selection import train_test_split\n",
        "## TODO ##\n",
        "# use sklearn (train_test_split) to split data to 80% training 20% testing\n",
        "X_train, X_test, y_train, y_test = train_test_split(X_poly,Y,test_size=0.2)"
      ],
      "execution_count": null,
      "outputs": []
    },
    {
      "cell_type": "code",
      "metadata": {
        "id": "WmHYknzXMA-I"
      },
      "source": [
        "from sklearn.metrics import mean_squared_error\n",
        "def display_results(model):\n",
        "    coefs = [model.intercept_]\n",
        "    coefs += list(model.coef_)\n",
        "    ytrain_predict=model.predict(X_train)\n",
        "    ytest_predict=model.predict(X_test)\n",
        "    train_error=np.sqrt(mean_squared_error(y_train,ytrain_predict))\n",
        "    test_error=np.sqrt(mean_squared_error(y_test,ytest_predict))\n",
        "    print(\"Training error (rmse):\", train_error)\n",
        "    print(\"Testing error (rmse):\", test_error)\n",
        "    plt.scatter(X_train[:,0], y_train, marker='o')\n",
        "    plt.scatter(X_test[:,0], y_test, marker='^')\n",
        "    draw_polynomial(coefs)\n",
        "    plt.show()\n",
        "    print(\"Polynomial coefficients\")\n",
        "    print(coefs)"
      ],
      "execution_count": null,
      "outputs": []
    },
    {
      "cell_type": "markdown",
      "metadata": {
        "id": "G9x4Q5S3MA-I"
      },
      "source": [
        "## Training a polynomial regression model with no regularization"
      ]
    },
    {
      "cell_type": "code",
      "metadata": {
        "id": "QKm7sV7JMA-J"
      },
      "source": [
        "from sklearn.linear_model import LinearRegression\n",
        "## TODO ##\n",
        "# use sklearn linear regression to fit the data \n",
        "# normalization trick ;)\n",
        "model_no_reg =  LinearRegression(normalize=True).fit(X_train, y_train)"
      ],
      "execution_count": null,
      "outputs": []
    },
    {
      "cell_type": "code",
      "metadata": {
        "id": "uje8MamakgwD",
        "colab": {
          "base_uri": "https://localhost:8080/",
          "height": 356
        },
        "outputId": "d035bde8-8079-403a-bf34-6dd2b50b55c5"
      },
      "source": [
        "display_results(model_no_reg)"
      ],
      "execution_count": null,
      "outputs": [
        {
          "output_type": "stream",
          "text": [
            "Training error (rmse): 0.4362987734431533\n",
            "Testing error (rmse): 1851348449090321.5\n"
          ],
          "name": "stdout"
        },
        {
          "output_type": "display_data",
          "data": {
            "image/png": "[encoded data removed]",
            "text/plain": [
              "<Figure size 432x288 with 1 Axes>"
            ]
          },
          "metadata": {
            "tags": [],
            "needs_background": "light"
          }
        },
        {
          "output_type": "stream",
          "text": [
            "Polynomial coefficients\n",
            "[9.942611437956108, 58.09783585564246, 107.01873317400425, -1018.731639950163, -81.86860906643926, 4992.509921836581, -1839.6885701679955, -9845.691007010917, 4077.3622515448974, 10540.413295100734, -3422.8571443581973, -6841.977788754991, 1317.3013712751717, 2745.134799279115, -196.39275795429788, -668.1085063857453, -10.094036259790325, 95.5913595978254, 6.433201706419314, -7.43925023964779, -0.6422387049035567, 0.2347004223201076, 0.010300579564218097, 0.003423456003915901, 0.0012393591297839522, -0.00023605766503108073, -5.9921227297074245e-06, -6.7279177114765416e-06, -2.1372129352860075e-06, 6.881521746814126e-08, -6.78737809225796e-08, 8.88606547866988e-09, 3.457639004884366e-10, 2.805436854906016e-10, 1.1198710961998218e-10, 3.764005734664319e-12, 5.7395586145564036e-12, -1.2304858755786703e-13, 1.668384764301184e-13, -1.1633393390333906e-14, 2.185910221391103e-15, -5.711038645893563e-16, -9.93695377683071e-17, -2.1343952189301486e-17, -9.908740508262024e-18, -6.8203406771085975e-19, -5.294920544431955e-19, -1.3951152491174024e-20, -2.2386952187502002e-20, -4.5947147699696106e-23, -7.850948798756174e-22, 2.5907202210799783e-23, -2.5611234222995185e-23, 2.146248475404906e-24, -7.061737939775511e-25, 1.2777738943627813e-25, -1.4209935775789192e-26, 6.584420172176508e-27, 2.3469209923050295e-29, 3.151711695948483e-28, 1.805852078296483e-29, 1.4183133174204432e-29, 1.4490060601732624e-30, 6.085637168081441e-31, 7.369080427015071e-32, 2.4772208906107293e-32, 3.656279934765285e-33, 1.0065016510418917e-33, 1.6044992414732166e-34, 3.84232240132717e-35, 6.559317291747763e-36, 1.4856314319204037e-36, 2.8207432033539968e-37, 5.708996511716803e-38, 1.0515227250910784e-38, 2.133579478965106e-39, 4.27394344071296e-40, 7.730471746707702e-41, 1.5904748600037553e-41, 2.7904265721924123e-42, 6.320486720685131e-43, 9.816176884569362e-44, 2.414883081102113e-44, 3.5067689869315335e-45, 9.559804895458781e-46, 1.1893302043698313e-46, 3.269368516380179e-47, 4.246637051450488e-48, 1.3404989853717203e-48, 1.3867284653151752e-49, 4.3932379368780355e-50, 3.82066908220352e-51, 1.6899350214261186e-51, 1.1625314019494696e-52, 6.04697928930003e-53, 3.728019790211961e-54, 2.6510537857999345e-54, 6.300916973798723e-56, 9.119652130299778e-56, 9.400242192332138e-58, 3.254056994968017e-57, 2.0240003736779095e-58, 1.4110852997368441e-58, -6.172312317888479e-60, 4.880000631281003e-60, -1.3698844162752834e-61, 2.130749165167745e-61, -2.8882344126526256e-62, 7.26709228170491e-63, -5.164157227724801e-64, 3.170553882092425e-64, -2.0936324057991787e-65, 1.5040141931242861e-65, -1.1393734206371e-66, 4.984097972765671e-67, -3.757012104176035e-68, 1.8312199600522605e-68, -3.022265944852949e-69, 8.87374820459425e-70, -1.272617019421869e-70, 4.1054754367272785e-71, -5.943987290280966e-72, 1.1142048415244131e-72, -2.8271495505137327e-73, 6.820711731419641e-74, -1.2119588582099262e-74, 3.2468202884053285e-75, -4.6035579453615496e-76, 9.550095870614949e-77, -1.4874215255033483e-77, 5.66464027392653e-78, -9.076255135992952e-79, 1.9747949351380147e-79, -4.6335443543289345e-80, 7.3983821401877045e-81, -1.5180941802496864e-81, 2.6972154220686595e-82, -6.833622337201456e-83, 1.2969644807704151e-83, -2.753651320041933e-84, 5.0086247272566846e-85, -9.678064696671681e-86, 2.1641020837708882e-86, -5.379349742649098e-87, 6.998565857075392e-88, -2.07144377272419e-88, 4.8316548309072594e-89, -1.1523909479921432e-89, 2.150415639406662e-90, -3.8759012985777023e-91, 7.045828484305779e-92, -1.2869559164592385e-92, 3.307460924836628e-93, -7.685925401717773e-94, 1.6878957127039938e-94, -2.4934328946386102e-95, 3.860785579879809e-96, -1.1008175440113686e-96, 2.355340559664751e-97, -5.552051450238153e-98, 1.2491370625056264e-98, -2.122080385575145e-99, 5.527900969459964e-100, -7.633355241604241e-101, 1.3909497217342227e-101, -5.3997135931374304e-102, 6.80868497142853e-103, -1.3729758037741297e-103, 3.765864525444353e-104, -7.723699148457555e-105, 1.2733165794629602e-105, -3.9087436441990425e-106, 6.20287241621832e-107, -1.6789692737490637e-107, 2.6356808632028092e-108, -6.175587281268325e-109, 1.4333185928612625e-109, -2.3555010228748145e-110, 4.758487451462376e-111, -8.148858529519648e-112, 2.3500785233273433e-112, -4.716046620194898e-113, 1.0667037167939481e-113, -1.861223639845083e-114, 3.7367998187455647e-115, -8.407528546641607e-116, 1.3260296753942942e-116, -3.0960844388194754e-117, 6.734428392757311e-118, -1.6047865744248954e-118, 2.747879448258625e-119, -4.652733871555035e-120, 1.2092190568591412e-120, -2.643056423686697e-121, 5.081840321091453e-122, -1.0965688711516822e-122, 2.233164800319903e-123, -5.219667455119376e-124, 1.0052773429143083e-124, -2.0330735210400732e-125, 5.2460660340490465e-126]\n"
          ],
          "name": "stdout"
        }
      ]
    },
    {
      "cell_type": "markdown",
      "metadata": {
        "id": "TLTU-3ojMA-J"
      },
      "source": [
        "## Training a polynomial regression model with L1 regularization"
      ]
    },
    {
      "cell_type": "code",
      "metadata": {
        "id": "sBfyPNvMMA-J"
      },
      "source": [
        "from sklearn import linear_model\n",
        "## TODO ##\n",
        "# use sklearn Lasso (linear regression with L1 Norm) to fit the data \n",
        "# normalization trick ;)\n",
        "\n",
        "model_L1_reg = linear_model.Lasso(alpha=0.1,normalize=True).fit(X_train, y_train)"
      ],
      "execution_count": null,
      "outputs": []
    },
    {
      "cell_type": "code",
      "metadata": {
        "id": "LOYlQsU5MA-K",
        "colab": {
          "base_uri": "https://localhost:8080/",
          "height": 356
        },
        "outputId": "63c4ac51-de97-4272-9a4b-17bfbfe7726d"
      },
      "source": [
        "display_results(model_L1_reg)"
      ],
      "execution_count": null,
      "outputs": [
        {
          "output_type": "stream",
          "text": [
            "Training error (rmse): 1.957054034801364\n",
            "Testing error (rmse): 2.8805979231233456\n"
          ],
          "name": "stdout"
        },
        {
          "output_type": "display_data",
          "data": {
            "image/png": "[encoded data removed]",
            "text/plain": [
              "<Figure size 432x288 with 1 Axes>"
            ]
          },
          "metadata": {
            "tags": [],
            "needs_background": "light"
          }
        },
        {
          "output_type": "stream",
          "text": [
            "Polynomial coefficients\n",
            "[13.639029977454992, 0.22679771065527857, -0.8527102908983488, 0.05304407990895214, -0.0, 0.0, -0.0, 0.0, -0.0, 0.0, -0.0, 0.0, -0.0, 0.0, -0.0, 0.0, -0.0, 0.0, -0.0, 0.0, -0.0, 0.0, -0.0, 0.0, -0.0, 0.0, -0.0, 0.0, -0.0, 0.0, -0.0, 0.0, -0.0, 0.0, -0.0, 0.0, -0.0, 0.0, -0.0, 0.0, -0.0, 0.0, -0.0, 0.0, -0.0, 0.0, -0.0, 0.0, -0.0, 0.0, -0.0, 0.0, -0.0, 0.0, -0.0, 0.0, -0.0, 0.0, -0.0, 0.0, -0.0, 0.0, -0.0, 0.0, -0.0, 0.0, -0.0, 0.0, -0.0, 0.0, -0.0, 0.0, -0.0, 0.0, -0.0, 0.0, -0.0, 0.0, -0.0, 0.0, -0.0, 0.0, -0.0, 0.0, -0.0, 0.0, -0.0, 0.0, -0.0, 0.0, -0.0, 0.0, -0.0, 0.0, -0.0, 0.0, -0.0, 0.0, -0.0, 0.0, -0.0, 0.0, -0.0, 0.0, -0.0, 0.0, -0.0, 0.0, -0.0, 0.0, -0.0, 0.0, -0.0, 0.0, -0.0, 0.0, -0.0, 0.0, -0.0, 0.0, -0.0, 0.0, -0.0, 0.0, -0.0, 0.0, -0.0, 0.0, -0.0, 0.0, -0.0, 0.0, -0.0, 0.0, -0.0, 0.0, -0.0, 0.0, -0.0, 0.0, -0.0, 0.0, -0.0, 0.0, -0.0, 0.0, -0.0, 0.0, -0.0, 0.0, -0.0, 0.0, -0.0, 0.0, -0.0, 0.0, -0.0, 0.0, -0.0, 0.0, -0.0, 0.0, -0.0, 0.0, -0.0, 0.0, -0.0, 0.0, -0.0, 0.0, -0.0, 0.0, -0.0, 0.0, -0.0, 0.0, -0.0, 0.0, -0.0, 0.0, -0.0, 0.0, -0.0, 0.0, -0.0, 0.0, -0.0, 0.0, -0.0, 0.0, -0.0, 0.0, -0.0, 0.0, -0.0, 0.0, -0.0, 0.0, -0.0, 0.0, -0.0]\n"
          ],
          "name": "stdout"
        }
      ]
    },
    {
      "cell_type": "markdown",
      "metadata": {
        "id": "21v4zgmbMA-K"
      },
      "source": [
        "## Training a polynomial regression model with L2 regularization"
      ]
    },
    {
      "cell_type": "code",
      "metadata": {
        "id": "MrSeiPXPMA-K"
      },
      "source": [
        "from sklearn import linear_model\n",
        "## TODO ##\n",
        "# use sklearn Ridge (linear regression with L2 Norm) to fit the data \n",
        "# normalization trick ;)\n",
        "\n",
        "model_L2_reg = linear_model.Ridge(normalize=True).fit(X_train, y_train)"
      ],
      "execution_count": null,
      "outputs": []
    },
    {
      "cell_type": "code",
      "metadata": {
        "id": "TyLoFFM_MA-L",
        "colab": {
          "base_uri": "https://localhost:8080/",
          "height": 356
        },
        "outputId": "fe646687-f8ac-45ea-e901-eca7ee0ed8a6"
      },
      "source": [
        "display_results(model_L2_reg)"
      ],
      "execution_count": null,
      "outputs": [
        {
          "output_type": "stream",
          "text": [
            "Training error (rmse): 2.9890115289995154\n",
            "Testing error (rmse): 115.43772424701692\n"
          ],
          "name": "stdout"
        },
        {
          "output_type": "display_data",
          "data": {
            "image/png": "[encoded data removed]",
            "text/plain": [
              "<Figure size 432x288 with 1 Axes>"
            ]
          },
          "metadata": {
            "tags": [],
            "needs_background": "light"
          }
        },
        {
          "output_type": "stream",
          "text": [
            "Polynomial coefficients\n",
            "[11.251792973037833, 0.2804176630570741, -0.2531467055506675, 0.013135517974791386, -0.008779439999153385, 0.0005423532951758915, -0.00029584124184701467, 2.1046280914249132e-05, -9.552639320936658e-06, 7.599611479985481e-07, -2.967102894472971e-07, 2.563908746622464e-08, -8.987438478900823e-09, 8.193989193401406e-10, -2.6862850236216563e-10, 2.5128407036014125e-11, -7.977478304453556e-12, 7.451539400911884e-13, -2.359766413983536e-13, 2.1395437607916913e-14, -6.947209110161315e-15, 5.911137648126211e-16, -2.028200671444093e-16, 1.542970418307229e-17, -5.831839260681315e-18, 3.6355002070979965e-19, -1.6322168875260712e-19, 6.700218925381019e-21, -4.351335897526917e-21, 2.3941248967202808e-23, -1.054630197602674e-22, -6.726975579921779e-24, -2.026473573191387e-24, -5.150194787414789e-25, -9.884003091568492e-27, -2.863903643287658e-26, 1.9562580134865057e-27, -1.4150078375424825e-27, 1.5743974763962977e-28, -6.58946195500682e-29, 9.019530124687565e-30, -2.966317392563767e-30, 4.563926341532528e-31, -1.307723775867734e-31, 2.168998988715949e-32, -5.688287916145292e-33, 9.937339347204498e-34, -2.4524226776146415e-34, 4.4482557026669254e-35, -1.0510526961293431e-35, 1.960504261665126e-36, -4.4864596751624075e-37, 8.548334780381417e-38, -1.9098256708306422e-38, 3.6990271696141586e-39, -8.114757435572703e-40, 1.5918616273687598e-40, -3.443581153932773e-41, 6.823002675899839e-42, -1.4600829933534595e-42, 2.915774052623652e-43, -6.18729192397867e-44, 1.2432817045448613e-44, -2.6209827200402566e-45, 5.292530954650775e-46, -1.110007599950064e-46, 2.2501595705533473e-47, -4.700294729674735e-48, 9.557661032573699e-49, -1.9901588609508988e-49, 4.0567422342294536e-50, -8.42618822724973e-51, 1.7209380518087764e-51, -3.567520195169351e-52, 7.297454852317094e-53, -1.510429767955211e-53, 3.093418262689373e-54, -6.394956170261833e-55, 1.3109900017896416e-55, -2.707570727548197e-56, 5.554927004423387e-57, -1.146379200581995e-57, 2.3533930620065103e-58, -4.853816076216498e-59, 9.969242836124188e-60, -2.0551554617896547e-60, 4.2227226535723076e-61, -8.70185699552876e-62, 1.788521347307852e-62, -3.6845505997707325e-63, 7.574839379006159e-64, -1.560133655005889e-64, 3.208008397732631e-65, -6.60606992250796e-66, 1.3585768713678945e-66, -2.7972290302226557e-67, 5.753373745545732e-68, -1.1844476193404652e-68, 2.436424310833501e-69, -5.01540715390572e-70, 1.0317560406795016e-70, -2.123726688274332e-71, 4.3691430382913866e-72, -8.992755713337778e-73, 1.8501703993897933e-73, -3.807925200728021e-74, 7.834733915778346e-75, -1.6124461143754435e-75, 3.317679891641035e-76, -6.827834521127911e-77, 1.4048919361546163e-77, -2.891222819189975e-78, 5.949082084730174e-79, -1.2242801019532365e-79, 2.51916092192734e-80, -5.184185705620034e-81, 1.0667459585408808e-81, -2.1952335985167803e-82, 4.5171595789957676e-83, -9.295682503211725e-84, 1.9127990044226608e-84, -3.936244854890993e-85, 8.09977268414586e-86, -1.666798723208458e-86, 3.4298569173855714e-87, -7.058044579179287e-88, 1.452375529628655e-88, -2.98872381388253e-89, 6.150092462501735e-90, -1.2655732621529503e-90, 2.60425922804312e-91, -5.359063390719258e-92, 1.1027743501874109e-92, -2.2692930080800015e-93, 4.6697002563337117e-94, -9.609312520888502e-95, 1.9773851910022118e-95, -4.069060161109639e-96, 8.373239059766876e-97, -1.723042317843035e-97, 3.545648319600966e-98, -7.296218120133841e-99, 1.5014047550321294e-99, -3.0895818080647323e-100, 6.357697900384417e-101, -1.3082827352470519e-101, 2.6921668075748852e-102, -5.539920566090036e-103, 1.13999783132254e-103, -2.345878301130379e-104, 4.8273197974618715e-105, -9.933617405740645e-106, 2.044128083767798e-106, -4.206388567217214e-107, 8.655858142596084e-108, -1.7811945363885975e-108, 3.665322127936088e-109, -7.542465382260699e-110, 1.552080210801321e-110, -3.1938557768443123e-111, 6.572281705322414e-112, -1.3524377356176745e-112, 2.783031841433877e-113, -5.7268955389624264e-114, 1.178474467333149e-114, -2.4250530588018155e-115, 4.9902485576798345e-116, -1.0268883588148522e-116, 2.1131200768524598e-117, -4.348357249095127e-118, 8.94800407984172e-119, -1.841311243869151e-119, 3.789031096416253e-120, -7.79702979607621e-121, 1.6044646933172733e-121, -3.3016511434001726e-122, 6.794103512600955e-123, -1.3980837025755599e-123, 2.876962184094771e-124, -5.920183436899108e-125, 1.218249234119974e-125, -2.506900830742728e-126, 5.1586746725768395e-127, -1.0615467993734276e-127, 2.1844400649828047e-128, -4.4951184107724434e-129, 9.250008380241318e-130, -1.903457251894039e-130, 3.9169147450567335e-131, -8.060187029230473e-132, 1.658616996307708e-132, -3.41308505341498e-133, 7.023411329698759e-134, -1.4452703816835011e-134, 2.974062535636776e-135, -6.1199953819311155e-136, 1.2593663604981936e-136, -2.591511177027117e-137, 5.332785073492959e-138, -1.0973750407000212e-138, 2.2581670854038144e-139]\n"
          ],
          "name": "stdout"
        }
      ]
    },
    {
      "cell_type": "markdown",
      "metadata": {
        "id": "1EsLoBMqMA-L"
      },
      "source": [
        "## Viewing the predictions in the testing set"
      ]
    },
    {
      "cell_type": "code",
      "metadata": {
        "id": "TPp6zYZ6MA-L",
        "colab": {
          "base_uri": "https://localhost:8080/",
          "height": 295
        },
        "outputId": "06ff8cd1-4618-4c65-8826-1573e46a727e"
      },
      "source": [
        "import pandas as pd\n",
        "from IPython.display import display\n",
        "predictions={}\n",
        "predictions ['x']=X_test[:,0]\n",
        "predictions ['y']=y_test\n",
        "predictions['No reg'] = model_no_reg.predict(X_test)\n",
        "predictions['L1 reg'] = model_L1_reg.predict(X_test)\n",
        "predictions['L2 reg'] = model_L2_reg.predict(X_test)\n",
        "predictions=pd.DataFrame.from_dict(predictions)\n",
        "display(predictions)"
      ],
      "execution_count": null,
      "outputs": [
        {
          "output_type": "display_data",
          "data": {
            "text/html": [
              "<div>\n",
              "<style scoped>\n",
              "    .dataframe tbody tr th:only-of-type {\n",
              "        vertical-align: middle;\n",
              "    }\n",
              "\n",
              "    .dataframe tbody tr th {\n",
              "        vertical-align: top;\n",
              "    }\n",
              "\n",
              "    .dataframe thead th {\n",
              "        text-align: right;\n",
              "    }\n",
              "</style>\n",
              "<table border=\"1\" class=\"dataframe\">\n",
              "  <thead>\n",
              "    <tr style=\"text-align: right;\">\n",
              "      <th></th>\n",
              "      <th>x</th>\n",
              "      <th>y</th>\n",
              "      <th>No reg</th>\n",
              "      <th>L1 reg</th>\n",
              "      <th>L2 reg</th>\n",
              "    </tr>\n",
              "  </thead>\n",
              "  <tbody>\n",
              "    <tr>\n",
              "      <th>0</th>\n",
              "      <td>-4.988572</td>\n",
              "      <td>-18.893035</td>\n",
              "      <td>5.236404e+15</td>\n",
              "      <td>6.260974</td>\n",
              "      <td>307.443779</td>\n",
              "    </tr>\n",
              "    <tr>\n",
              "      <th>1</th>\n",
              "      <td>1.681532</td>\n",
              "      <td>16.070558</td>\n",
              "      <td>5.641040e+03</td>\n",
              "      <td>8.054563</td>\n",
              "      <td>11.000626</td>\n",
              "    </tr>\n",
              "    <tr>\n",
              "      <th>2</th>\n",
              "      <td>1.031856</td>\n",
              "      <td>13.676624</td>\n",
              "      <td>1.760787e+01</td>\n",
              "      <td>8.197901</td>\n",
              "      <td>11.276382</td>\n",
              "    </tr>\n",
              "    <tr>\n",
              "      <th>3</th>\n",
              "      <td>0.112747</td>\n",
              "      <td>12.205789</td>\n",
              "      <td>1.646512e+01</td>\n",
              "      <td>8.283442</td>\n",
              "      <td>11.280209</td>\n",
              "    </tr>\n",
              "    <tr>\n",
              "      <th>4</th>\n",
              "      <td>-4.101756</td>\n",
              "      <td>-7.821475</td>\n",
              "      <td>1.298358e+09</td>\n",
              "      <td>6.916460</td>\n",
              "      <td>-2.114215</td>\n",
              "    </tr>\n",
              "    <tr>\n",
              "      <th>5</th>\n",
              "      <td>3.144669</td>\n",
              "      <td>3.266470</td>\n",
              "      <td>2.754165e+06</td>\n",
              "      <td>7.480392</td>\n",
              "      <td>9.027469</td>\n",
              "    </tr>\n",
              "    <tr>\n",
              "      <th>6</th>\n",
              "      <td>1.839839</td>\n",
              "      <td>9.208004</td>\n",
              "      <td>1.586861e+04</td>\n",
              "      <td>8.009236</td>\n",
              "      <td>10.892288</td>\n",
              "    </tr>\n",
              "    <tr>\n",
              "      <th>7</th>\n",
              "      <td>4.021660</td>\n",
              "      <td>2.454299</td>\n",
              "      <td>-4.637498e+07</td>\n",
              "      <td>6.969367</td>\n",
              "      <td>5.664911</td>\n",
              "    </tr>\n",
              "  </tbody>\n",
              "</table>\n",
              "</div>"
            ],
            "text/plain": [
              "          x          y        No reg    L1 reg      L2 reg\n",
              "0 -4.988572 -18.893035  5.236404e+15  6.260974  307.443779\n",
              "1  1.681532  16.070558  5.641040e+03  8.054563   11.000626\n",
              "2  1.031856  13.676624  1.760787e+01  8.197901   11.276382\n",
              "3  0.112747  12.205789  1.646512e+01  8.283442   11.280209\n",
              "4 -4.101756  -7.821475  1.298358e+09  6.916460   -2.114215\n",
              "5  3.144669   3.266470  2.754165e+06  7.480392    9.027469\n",
              "6  1.839839   9.208004  1.586861e+04  8.009236   10.892288\n",
              "7  4.021660   2.454299 -4.637498e+07  6.969367    5.664911"
            ]
          },
          "metadata": {
            "tags": []
          }
        }
      ]
    },
    {
      "cell_type": "code",
      "metadata": {
        "id": "vRhFnacE74qe"
      },
      "source": [
        ""
      ],
      "execution_count": null,
      "outputs": []
    }
  ]
}